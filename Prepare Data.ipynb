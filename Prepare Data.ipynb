{
 "cells": [
  {
   "cell_type": "markdown",
   "metadata": {},
   "source": [
    "## Download data"
   ]
  },
  {
   "cell_type": "markdown",
   "metadata": {},
   "source": [
    "1. Used the kaggle CLI\n",
    "2. Unzip\n",
    "3. moved the training data into a folder called raw\n",
    "\n",
    "\n",
    "mkdir(\"data\")  \n",
    "cd data  \n",
    "kg download -u 'USERNAME' -p 'PASSWORD' -c 'the-nature-conservancy-fisheries-monitoring'  \n",
    "unzip train.zip  \n",
    "mv train raw  \n",
    "unzip test_stg1.zip  "
   ]
  },
  {
   "cell_type": "markdown",
   "metadata": {},
   "source": [
    "## Move files into train and test folder ##\n"
   ]
  },
  {
   "cell_type": "code",
   "execution_count": null,
   "metadata": {
    "collapsed": true
   },
   "outputs": [],
   "source": [
    "import numpy as np"
   ]
  },
  {
   "cell_type": "code",
   "execution_count": null,
   "metadata": {
    "collapsed": false
   },
   "outputs": [],
   "source": [
    "def create_dir_if_not_exist(directory):\n",
    "    if not os.path.exists(directory):\n",
    "        os.makedirs(directory)\n",
    "\n",
    "from shutil import copyfile\n",
    "import os\n",
    "train_ratio = 0.8\n",
    "raw_path = 'data/raw/'\n",
    "train_path = 'data/train/'\n",
    "val_path = 'data/validation/'\n",
    "\n",
    "categories = ['DOL', 'YFT', 'ALB', 'BET', 'SHARK', 'NoF', 'OTHER', 'LAG']\n",
    "\n",
    "if True:    \n",
    "    %rm data/train -r\n",
    "    %rm data/validation -r\n",
    "\n",
    "    for cat in categories:\n",
    "        create_dir_if_not_exist(train_path+cat)\n",
    "        create_dir_if_not_exist(val_path+cat)\n",
    "\n",
    "        images = os.listdir(raw_path+cat)\n",
    "        for im in images:\n",
    "            if np.random.rand() < train_ratio:\n",
    "                copyfile(raw_path+cat+\"/\"+im, train_path+cat+\"/\"+im)\n",
    "            else:\n",
    "                copyfile(raw_path+cat+\"/\"+im, val_path+cat+\"/\"+im)"
   ]
  },
  {
   "cell_type": "markdown",
   "metadata": {},
   "source": [
    "## Download bounding Box Annotations"
   ]
  },
  {
   "cell_type": "markdown",
   "metadata": {},
   "source": [
    "The bounding boxes can be found here:  \n",
    "https://www.kaggle.com/c/the-nature-conservancy-fisheries-monitoring/discussion/25902  \n",
    "\n",
    "To prepare the bounding box-data you could look at:  \n",
    "https://github.com/fastai/courses/blob/master/deeplearning1/nbs/lesson7.ipynb"
   ]
  },
  {
   "cell_type": "code",
   "execution_count": null,
   "metadata": {
    "collapsed": false
   },
   "outputs": [],
   "source": [
    "urls = [\n",
    "    'https://kaggle2.blob.core.windows.net/forum-message-attachments/147157/5458/bet_labels.json',\n",
    "    'https://kaggle2.blob.core.windows.net/forum-message-attachments/147157/5459/shark_labels.json',\n",
    "    'https://kaggle2.blob.core.windows.net/forum-message-attachments/147157/5460/dol_labels.json',\n",
    "    'https://kaggle2.blob.core.windows.net/forum-message-attachments/147157/5461/yft_labels.json',\n",
    "    'https://kaggle2.blob.core.windows.net/forum-message-attachments/147157/5462/alb_labels.json',\n",
    "    'https://kaggle2.blob.core.windows.net/forum-message-attachments/147157/5463/lag_labels.json'\n",
    "]\n",
    "\n",
    "%rm data/annos/ -r\n",
    "annos_dir = 'data/annos/'\n",
    "create_dir_if_not_exist(annos_dir)\n",
    "\n",
    "for url in urls:\n",
    "    cmd = ('wget --directory-prefix ' + annos_dir + ' ' + url )\n",
    "    print cmd\n",
    "    os.system(cmd)"
   ]
  },
  {
   "cell_type": "code",
   "execution_count": null,
   "metadata": {
    "collapsed": true
   },
   "outputs": [],
   "source": []
  }
 ],
 "metadata": {
  "kernelspec": {
   "display_name": "Python 2",
   "language": "python",
   "name": "python2"
  },
  "language_info": {
   "codemirror_mode": {
    "name": "ipython",
    "version": 2
   },
   "file_extension": ".py",
   "mimetype": "text/x-python",
   "name": "python",
   "nbconvert_exporter": "python",
   "pygments_lexer": "ipython2",
   "version": "2.7.12"
  }
 },
 "nbformat": 4,
 "nbformat_minor": 1
}
